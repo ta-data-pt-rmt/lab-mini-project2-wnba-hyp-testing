{
 "cells": [
  {
   "cell_type": "markdown",
   "metadata": {},
   "source": [
    "# Inferential statistics\n",
    "## Part III - Inferential Analysis\n",
    "\n",
    "We're now going to look for answers to the ongoing basketball discussions between you and your family. The main ones we want to reasearch are the following:\n",
    "\n",
    "- Your grandmother says that your sister couldn't play in a professional basketball league (not only the WNBA, but ANY professional basketball league) because she's too skinny and lacks muscle.\n",
    "- Your sister says that most female professional players fail their free throws.\n",
    "- Your brother-in-law heard on the TV that the average assists among NBA (male) and WNBA (female) players is 52 for the 2016-2017 season. He is convinced this average would be higher if we only considered the players from the WNBA.\n",
    "\n",
    "Let's investigate these claims and see if we can find proof to refute or support them.\n",
    "\n",
    "### Libraries\n",
    "Import the necessary libraries first."
   ]
  },
  {
   "cell_type": "code",
   "execution_count": 3,
   "metadata": {},
   "outputs": [],
   "source": [
    "# Libraries\n",
    "import math\n",
    "import pandas as pd\n",
    "import numpy as np\n",
    "from scipy import stats\n",
    "import matplotlib.pyplot as plt\n",
    "from scipy.stats import ttest_1samp\n",
    "pd.set_option('max_columns', 50)"
   ]
  },
  {
   "cell_type": "markdown",
   "metadata": {},
   "source": [
    "### Load the dataset\n",
    "\n",
    "Load the cleaned dataset."
   ]
  },
  {
   "cell_type": "code",
   "execution_count": 4,
   "metadata": {},
   "outputs": [
    {
     "data": {
      "text/html": [
       "<div>\n",
       "<style scoped>\n",
       "    .dataframe tbody tr th:only-of-type {\n",
       "        vertical-align: middle;\n",
       "    }\n",
       "\n",
       "    .dataframe tbody tr th {\n",
       "        vertical-align: top;\n",
       "    }\n",
       "\n",
       "    .dataframe thead th {\n",
       "        text-align: right;\n",
       "    }\n",
       "</style>\n",
       "<table border=\"1\" class=\"dataframe\">\n",
       "  <thead>\n",
       "    <tr style=\"text-align: right;\">\n",
       "      <th></th>\n",
       "      <th>Unnamed: 0</th>\n",
       "      <th>Name</th>\n",
       "      <th>Team</th>\n",
       "      <th>Pos</th>\n",
       "      <th>Height</th>\n",
       "      <th>Weight</th>\n",
       "      <th>BMI</th>\n",
       "      <th>Birth_Place</th>\n",
       "      <th>Birthdate</th>\n",
       "      <th>Age</th>\n",
       "      <th>College</th>\n",
       "      <th>Experience</th>\n",
       "      <th>Games Played</th>\n",
       "      <th>MIN</th>\n",
       "      <th>FGM</th>\n",
       "      <th>FGA</th>\n",
       "      <th>FG%</th>\n",
       "      <th>3PM</th>\n",
       "      <th>3PA</th>\n",
       "      <th>3P%</th>\n",
       "      <th>FTM</th>\n",
       "      <th>FTA</th>\n",
       "      <th>FT%</th>\n",
       "      <th>OREB</th>\n",
       "      <th>DREB</th>\n",
       "      <th>REB</th>\n",
       "      <th>AST</th>\n",
       "      <th>STL</th>\n",
       "      <th>BLK</th>\n",
       "      <th>TO</th>\n",
       "      <th>PTS</th>\n",
       "      <th>DD2</th>\n",
       "      <th>TD3</th>\n",
       "    </tr>\n",
       "  </thead>\n",
       "  <tbody>\n",
       "    <tr>\n",
       "      <th>0</th>\n",
       "      <td>0</td>\n",
       "      <td>Aerial Powers</td>\n",
       "      <td>DAL</td>\n",
       "      <td>F</td>\n",
       "      <td>183</td>\n",
       "      <td>71.0</td>\n",
       "      <td>21.200991</td>\n",
       "      <td>US</td>\n",
       "      <td>January 17, 1994</td>\n",
       "      <td>23</td>\n",
       "      <td>Michigan State</td>\n",
       "      <td>2</td>\n",
       "      <td>8</td>\n",
       "      <td>173</td>\n",
       "      <td>30</td>\n",
       "      <td>85</td>\n",
       "      <td>35.3</td>\n",
       "      <td>12</td>\n",
       "      <td>32</td>\n",
       "      <td>37.5</td>\n",
       "      <td>21</td>\n",
       "      <td>26</td>\n",
       "      <td>80.8</td>\n",
       "      <td>6</td>\n",
       "      <td>22</td>\n",
       "      <td>28</td>\n",
       "      <td>12</td>\n",
       "      <td>3</td>\n",
       "      <td>6</td>\n",
       "      <td>12</td>\n",
       "      <td>93</td>\n",
       "      <td>0</td>\n",
       "      <td>0</td>\n",
       "    </tr>\n",
       "    <tr>\n",
       "      <th>1</th>\n",
       "      <td>1</td>\n",
       "      <td>Alana Beard</td>\n",
       "      <td>LA</td>\n",
       "      <td>G/F</td>\n",
       "      <td>185</td>\n",
       "      <td>73.0</td>\n",
       "      <td>21.329438</td>\n",
       "      <td>US</td>\n",
       "      <td>May 14, 1982</td>\n",
       "      <td>35</td>\n",
       "      <td>Duke</td>\n",
       "      <td>12</td>\n",
       "      <td>30</td>\n",
       "      <td>947</td>\n",
       "      <td>90</td>\n",
       "      <td>177</td>\n",
       "      <td>50.8</td>\n",
       "      <td>5</td>\n",
       "      <td>18</td>\n",
       "      <td>27.8</td>\n",
       "      <td>32</td>\n",
       "      <td>41</td>\n",
       "      <td>78.0</td>\n",
       "      <td>19</td>\n",
       "      <td>82</td>\n",
       "      <td>101</td>\n",
       "      <td>72</td>\n",
       "      <td>63</td>\n",
       "      <td>13</td>\n",
       "      <td>40</td>\n",
       "      <td>217</td>\n",
       "      <td>0</td>\n",
       "      <td>0</td>\n",
       "    </tr>\n",
       "    <tr>\n",
       "      <th>2</th>\n",
       "      <td>2</td>\n",
       "      <td>Alex Bentley</td>\n",
       "      <td>CON</td>\n",
       "      <td>G</td>\n",
       "      <td>170</td>\n",
       "      <td>69.0</td>\n",
       "      <td>23.875433</td>\n",
       "      <td>US</td>\n",
       "      <td>October 27, 1990</td>\n",
       "      <td>26</td>\n",
       "      <td>Penn State</td>\n",
       "      <td>4</td>\n",
       "      <td>26</td>\n",
       "      <td>617</td>\n",
       "      <td>82</td>\n",
       "      <td>218</td>\n",
       "      <td>37.6</td>\n",
       "      <td>19</td>\n",
       "      <td>64</td>\n",
       "      <td>29.7</td>\n",
       "      <td>35</td>\n",
       "      <td>42</td>\n",
       "      <td>83.3</td>\n",
       "      <td>4</td>\n",
       "      <td>36</td>\n",
       "      <td>40</td>\n",
       "      <td>78</td>\n",
       "      <td>22</td>\n",
       "      <td>3</td>\n",
       "      <td>24</td>\n",
       "      <td>218</td>\n",
       "      <td>0</td>\n",
       "      <td>0</td>\n",
       "    </tr>\n",
       "    <tr>\n",
       "      <th>3</th>\n",
       "      <td>3</td>\n",
       "      <td>Alex Montgomery</td>\n",
       "      <td>SAN</td>\n",
       "      <td>G/F</td>\n",
       "      <td>185</td>\n",
       "      <td>84.0</td>\n",
       "      <td>24.543462</td>\n",
       "      <td>US</td>\n",
       "      <td>December 11, 1988</td>\n",
       "      <td>28</td>\n",
       "      <td>Georgia Tech</td>\n",
       "      <td>6</td>\n",
       "      <td>31</td>\n",
       "      <td>721</td>\n",
       "      <td>75</td>\n",
       "      <td>195</td>\n",
       "      <td>38.5</td>\n",
       "      <td>21</td>\n",
       "      <td>68</td>\n",
       "      <td>30.9</td>\n",
       "      <td>17</td>\n",
       "      <td>21</td>\n",
       "      <td>81.0</td>\n",
       "      <td>35</td>\n",
       "      <td>134</td>\n",
       "      <td>169</td>\n",
       "      <td>65</td>\n",
       "      <td>20</td>\n",
       "      <td>10</td>\n",
       "      <td>38</td>\n",
       "      <td>188</td>\n",
       "      <td>2</td>\n",
       "      <td>0</td>\n",
       "    </tr>\n",
       "    <tr>\n",
       "      <th>4</th>\n",
       "      <td>4</td>\n",
       "      <td>Alexis Jones</td>\n",
       "      <td>MIN</td>\n",
       "      <td>G</td>\n",
       "      <td>175</td>\n",
       "      <td>78.0</td>\n",
       "      <td>25.469388</td>\n",
       "      <td>US</td>\n",
       "      <td>August 5, 1994</td>\n",
       "      <td>23</td>\n",
       "      <td>Baylor</td>\n",
       "      <td>R</td>\n",
       "      <td>24</td>\n",
       "      <td>137</td>\n",
       "      <td>16</td>\n",
       "      <td>50</td>\n",
       "      <td>32.0</td>\n",
       "      <td>7</td>\n",
       "      <td>20</td>\n",
       "      <td>35.0</td>\n",
       "      <td>11</td>\n",
       "      <td>12</td>\n",
       "      <td>91.7</td>\n",
       "      <td>3</td>\n",
       "      <td>9</td>\n",
       "      <td>12</td>\n",
       "      <td>12</td>\n",
       "      <td>7</td>\n",
       "      <td>0</td>\n",
       "      <td>14</td>\n",
       "      <td>50</td>\n",
       "      <td>0</td>\n",
       "      <td>0</td>\n",
       "    </tr>\n",
       "  </tbody>\n",
       "</table>\n",
       "</div>"
      ],
      "text/plain": [
       "   Unnamed: 0             Name Team  Pos  Height  Weight        BMI  \\\n",
       "0           0    Aerial Powers  DAL    F     183    71.0  21.200991   \n",
       "1           1      Alana Beard   LA  G/F     185    73.0  21.329438   \n",
       "2           2     Alex Bentley  CON    G     170    69.0  23.875433   \n",
       "3           3  Alex Montgomery  SAN  G/F     185    84.0  24.543462   \n",
       "4           4     Alexis Jones  MIN    G     175    78.0  25.469388   \n",
       "\n",
       "  Birth_Place          Birthdate  Age         College Experience  \\\n",
       "0          US   January 17, 1994   23  Michigan State          2   \n",
       "1          US       May 14, 1982   35            Duke         12   \n",
       "2          US   October 27, 1990   26      Penn State          4   \n",
       "3          US  December 11, 1988   28    Georgia Tech          6   \n",
       "4          US     August 5, 1994   23          Baylor          R   \n",
       "\n",
       "   Games Played  MIN  FGM  FGA   FG%  3PM  3PA   3P%  FTM  FTA   FT%  OREB  \\\n",
       "0             8  173   30   85  35.3   12   32  37.5   21   26  80.8     6   \n",
       "1            30  947   90  177  50.8    5   18  27.8   32   41  78.0    19   \n",
       "2            26  617   82  218  37.6   19   64  29.7   35   42  83.3     4   \n",
       "3            31  721   75  195  38.5   21   68  30.9   17   21  81.0    35   \n",
       "4            24  137   16   50  32.0    7   20  35.0   11   12  91.7     3   \n",
       "\n",
       "   DREB  REB  AST  STL  BLK  TO  PTS  DD2  TD3  \n",
       "0    22   28   12    3    6  12   93    0    0  \n",
       "1    82  101   72   63   13  40  217    0    0  \n",
       "2    36   40   78   22    3  24  218    0    0  \n",
       "3   134  169   65   20   10  38  188    2    0  \n",
       "4     9   12   12    7    0  14   50    0    0  "
      ]
     },
     "execution_count": 4,
     "metadata": {},
     "output_type": "execute_result"
    }
   ],
   "source": [
    "#your code here\n",
    "wnba = pd.read_csv('wnba_clean.csv')\n",
    "wnba.head()"
   ]
  },
  {
   "cell_type": "markdown",
   "metadata": {},
   "source": [
    "# Question 1: Can my sister play in a professional female basketball league?\n",
    "\n",
    "As we said, you grandmother is convinced that your sister couldn't play in a professional league because of her physique and weight (her weight is 67kg). \n",
    "\n",
    "To find an actual answer to the question we first need to know what's the average weight of a professional female basketball player. The data we have only refers to the WNBA league and not to every female professional basketball league in the world, therefore we have no way of actually calculating it.\n",
    "\n",
    "Still, given that we do have *some* data we can **infer** it using a sample of players like the one we have. \n",
    "\n",
    "**How would you do it? Try and think about the requirements that your sample must satisfy in order to be used to infer the average weight. Do you feel it actually fulfills those requirements? Do you need to make any assumptions? We could calculate a confidence interval to do the inference, but do you know any other ways?**"
   ]
  },
  {
   "cell_type": "code",
   "execution_count": 7,
   "metadata": {},
   "outputs": [],
   "source": [
    "# your answer here\n",
    "##Podemos ver si esta dentro de los intervalos de confianza del peso"
   ]
  },
  {
   "cell_type": "markdown",
   "metadata": {},
   "source": [
    "**Now that all the requirements have been taken into account, compute the confidence interval of the average weight with a confidence level of 95%.**"
   ]
  },
  {
   "cell_type": "code",
   "execution_count": 8,
   "metadata": {},
   "outputs": [
    {
     "data": {
      "text/plain": [
       "(77.15461406720749, 80.80313241166576)"
      ]
     },
     "execution_count": 8,
     "metadata": {},
     "output_type": "execute_result"
    }
   ],
   "source": [
    "# your code here\n",
    "#Intervalos de confianza:\n",
    "stats.t.interval(alpha=0.95, df=len(wnba['Weight'])-1, loc=np.mean(wnba['Weight']), scale=stats.sem(wnba['Weight']))"
   ]
  },
  {
   "cell_type": "markdown",
   "metadata": {},
   "source": [
    "**What can you say about these results?**"
   ]
  },
  {
   "cell_type": "code",
   "execution_count": 9,
   "metadata": {},
   "outputs": [
    {
     "name": "stdout",
     "output_type": "stream",
     "text": [
      "She is an outlier :) , we cannot say that she is inside the confidence interval\n"
     ]
    }
   ],
   "source": [
    "#your-answer-here\n",
    "print(' we cannot say that she is inside the confidence interval')"
   ]
  },
  {
   "cell_type": "markdown",
   "metadata": {},
   "source": [
    "**If your sister weighs 67kg what would you tell your grandmother in regards to her assumption?**"
   ]
  },
  {
   "cell_type": "code",
   "execution_count": 11,
   "metadata": {},
   "outputs": [
    {
     "name": "stdout",
     "output_type": "stream",
     "text": [
      "She is right, but my sister can dream, she is probably an outlier :) \n"
     ]
    }
   ],
   "source": [
    "#your-answer-here\n",
    "print('She is right, but my sister can dream, she is probably an outlier :) ')"
   ]
  },
  {
   "cell_type": "markdown",
   "metadata": {},
   "source": [
    "## Bonus: Can you plot the probability distribution of the average weight, indicating where the critical region is?"
   ]
  },
  {
   "cell_type": "code",
   "execution_count": 15,
   "metadata": {},
   "outputs": [
    {
     "data": {
      "image/png": "[encoded data removed]",
      "text/plain": [
       "<Figure size 432x288 with 1 Axes>"
      ]
     },
     "metadata": {
      "needs_background": "light"
     },
     "output_type": "display_data"
    }
   ],
   "source": [
    "# your code here\n",
    "wnba['Weight'].hist()\n",
    "\n",
    "plt.axvline(x=wnba['Weight'].mean(), color='g')\n",
    "lower, upper = stats.t.interval(alpha=0.95, df=len(wnba['Weight'])-1, loc=np.mean(wnba['Weight']), scale=stats.sem(wnba['Weight']))\n",
    "\n",
    "plt.axvspan(lower, upper, alpha=0.5, color='red')\n",
    "plt.show()"
   ]
  },
  {
   "cell_type": "markdown",
   "metadata": {},
   "source": [
    "# Question 2: Do female professional basketball players fail the majority of their free throws?\n",
    "\n",
    "You do not agree with your sister when she says that most female players fail their free throws. You decide to try and estimate the percentage of players that fail more than 40% of their free throws using, you guessed it, the WNBA sample.\n",
    "\n",
    "**How would you do it? Try and think about the requirements that your sample must satisfy in order to be used to infer the proportion of players that miss more than 40% of their free throws. Do you feel it actually fulfills those requirements? Do you need to make any assumptions?**"
   ]
  },
  {
   "cell_type": "code",
   "execution_count": 17,
   "metadata": {},
   "outputs": [
    {
     "data": {
      "text/html": [
       "<div>\n",
       "<style scoped>\n",
       "    .dataframe tbody tr th:only-of-type {\n",
       "        vertical-align: middle;\n",
       "    }\n",
       "\n",
       "    .dataframe tbody tr th {\n",
       "        vertical-align: top;\n",
       "    }\n",
       "\n",
       "    .dataframe thead th {\n",
       "        text-align: right;\n",
       "    }\n",
       "</style>\n",
       "<table border=\"1\" class=\"dataframe\">\n",
       "  <thead>\n",
       "    <tr style=\"text-align: right;\">\n",
       "      <th></th>\n",
       "      <th>Unnamed: 0</th>\n",
       "      <th>Name</th>\n",
       "      <th>Team</th>\n",
       "      <th>Pos</th>\n",
       "      <th>Height</th>\n",
       "      <th>Weight</th>\n",
       "      <th>BMI</th>\n",
       "      <th>Birth_Place</th>\n",
       "      <th>Birthdate</th>\n",
       "      <th>Age</th>\n",
       "      <th>College</th>\n",
       "      <th>Experience</th>\n",
       "      <th>Games Played</th>\n",
       "      <th>MIN</th>\n",
       "      <th>FGM</th>\n",
       "      <th>FGA</th>\n",
       "      <th>FG%</th>\n",
       "      <th>3PM</th>\n",
       "      <th>3PA</th>\n",
       "      <th>3P%</th>\n",
       "      <th>FTM</th>\n",
       "      <th>FTA</th>\n",
       "      <th>FT%</th>\n",
       "      <th>OREB</th>\n",
       "      <th>DREB</th>\n",
       "      <th>REB</th>\n",
       "      <th>AST</th>\n",
       "      <th>STL</th>\n",
       "      <th>BLK</th>\n",
       "      <th>TO</th>\n",
       "      <th>PTS</th>\n",
       "      <th>DD2</th>\n",
       "      <th>TD3</th>\n",
       "    </tr>\n",
       "  </thead>\n",
       "  <tbody>\n",
       "    <tr>\n",
       "      <th>11</th>\n",
       "      <td>11</td>\n",
       "      <td>Alyssa Thomas</td>\n",
       "      <td>CON</td>\n",
       "      <td>F</td>\n",
       "      <td>188</td>\n",
       "      <td>84.0</td>\n",
       "      <td>23.766410</td>\n",
       "      <td>US</td>\n",
       "      <td>December 4, 1992</td>\n",
       "      <td>24</td>\n",
       "      <td>Maryland</td>\n",
       "      <td>3</td>\n",
       "      <td>28</td>\n",
       "      <td>833</td>\n",
       "      <td>154</td>\n",
       "      <td>303</td>\n",
       "      <td>50.8</td>\n",
       "      <td>0</td>\n",
       "      <td>3</td>\n",
       "      <td>0.0</td>\n",
       "      <td>91</td>\n",
       "      <td>158</td>\n",
       "      <td>57.6</td>\n",
       "      <td>34</td>\n",
       "      <td>158</td>\n",
       "      <td>192</td>\n",
       "      <td>136</td>\n",
       "      <td>48</td>\n",
       "      <td>11</td>\n",
       "      <td>87</td>\n",
       "      <td>399</td>\n",
       "      <td>4</td>\n",
       "      <td>0</td>\n",
       "    </tr>\n",
       "    <tr>\n",
       "      <th>32</th>\n",
       "      <td>32</td>\n",
       "      <td>Cayla George</td>\n",
       "      <td>PHO</td>\n",
       "      <td>C</td>\n",
       "      <td>193</td>\n",
       "      <td>87.0</td>\n",
       "      <td>23.356332</td>\n",
       "      <td>AU</td>\n",
       "      <td>April 20, 1987</td>\n",
       "      <td>30</td>\n",
       "      <td>Georgia</td>\n",
       "      <td>1</td>\n",
       "      <td>28</td>\n",
       "      <td>365</td>\n",
       "      <td>40</td>\n",
       "      <td>105</td>\n",
       "      <td>38.1</td>\n",
       "      <td>13</td>\n",
       "      <td>45</td>\n",
       "      <td>28.9</td>\n",
       "      <td>7</td>\n",
       "      <td>12</td>\n",
       "      <td>58.3</td>\n",
       "      <td>10</td>\n",
       "      <td>71</td>\n",
       "      <td>81</td>\n",
       "      <td>15</td>\n",
       "      <td>9</td>\n",
       "      <td>11</td>\n",
       "      <td>13</td>\n",
       "      <td>100</td>\n",
       "      <td>1</td>\n",
       "      <td>0</td>\n",
       "    </tr>\n",
       "    <tr>\n",
       "      <th>36</th>\n",
       "      <td>36</td>\n",
       "      <td>Courtney Paris</td>\n",
       "      <td>DAL</td>\n",
       "      <td>C</td>\n",
       "      <td>193</td>\n",
       "      <td>113.0</td>\n",
       "      <td>30.336385</td>\n",
       "      <td>US</td>\n",
       "      <td>September 21, 1987</td>\n",
       "      <td>29</td>\n",
       "      <td>Oklahoma</td>\n",
       "      <td>7</td>\n",
       "      <td>16</td>\n",
       "      <td>217</td>\n",
       "      <td>32</td>\n",
       "      <td>57</td>\n",
       "      <td>56.1</td>\n",
       "      <td>0</td>\n",
       "      <td>0</td>\n",
       "      <td>0.0</td>\n",
       "      <td>6</td>\n",
       "      <td>12</td>\n",
       "      <td>50.0</td>\n",
       "      <td>28</td>\n",
       "      <td>34</td>\n",
       "      <td>62</td>\n",
       "      <td>5</td>\n",
       "      <td>6</td>\n",
       "      <td>8</td>\n",
       "      <td>18</td>\n",
       "      <td>70</td>\n",
       "      <td>0</td>\n",
       "      <td>0</td>\n",
       "    </tr>\n",
       "    <tr>\n",
       "      <th>47</th>\n",
       "      <td>47</td>\n",
       "      <td>Elizabeth Williams</td>\n",
       "      <td>ATL</td>\n",
       "      <td>F/C</td>\n",
       "      <td>191</td>\n",
       "      <td>87.0</td>\n",
       "      <td>23.848030</td>\n",
       "      <td>US</td>\n",
       "      <td>June 23, 1993</td>\n",
       "      <td>24</td>\n",
       "      <td>Duke</td>\n",
       "      <td>3</td>\n",
       "      <td>30</td>\n",
       "      <td>377</td>\n",
       "      <td>48</td>\n",
       "      <td>96</td>\n",
       "      <td>50.0</td>\n",
       "      <td>0</td>\n",
       "      <td>1</td>\n",
       "      <td>0.0</td>\n",
       "      <td>32</td>\n",
       "      <td>55</td>\n",
       "      <td>58.2</td>\n",
       "      <td>35</td>\n",
       "      <td>61</td>\n",
       "      <td>96</td>\n",
       "      <td>5</td>\n",
       "      <td>5</td>\n",
       "      <td>4</td>\n",
       "      <td>21</td>\n",
       "      <td>128</td>\n",
       "      <td>0</td>\n",
       "      <td>0</td>\n",
       "    </tr>\n",
       "    <tr>\n",
       "      <th>80</th>\n",
       "      <td>80</td>\n",
       "      <td>Kia Vaughn</td>\n",
       "      <td>NY</td>\n",
       "      <td>C</td>\n",
       "      <td>193</td>\n",
       "      <td>90.0</td>\n",
       "      <td>24.161722</td>\n",
       "      <td>US</td>\n",
       "      <td>January 24, 1987</td>\n",
       "      <td>30</td>\n",
       "      <td>Rutgers</td>\n",
       "      <td>9</td>\n",
       "      <td>23</td>\n",
       "      <td>455</td>\n",
       "      <td>62</td>\n",
       "      <td>116</td>\n",
       "      <td>53.4</td>\n",
       "      <td>0</td>\n",
       "      <td>0</td>\n",
       "      <td>0.0</td>\n",
       "      <td>10</td>\n",
       "      <td>19</td>\n",
       "      <td>52.6</td>\n",
       "      <td>39</td>\n",
       "      <td>71</td>\n",
       "      <td>110</td>\n",
       "      <td>16</td>\n",
       "      <td>8</td>\n",
       "      <td>9</td>\n",
       "      <td>21</td>\n",
       "      <td>134</td>\n",
       "      <td>1</td>\n",
       "      <td>0</td>\n",
       "    </tr>\n",
       "    <tr>\n",
       "      <th>90</th>\n",
       "      <td>90</td>\n",
       "      <td>Maimouna Diarra</td>\n",
       "      <td>LA</td>\n",
       "      <td>C</td>\n",
       "      <td>198</td>\n",
       "      <td>90.0</td>\n",
       "      <td>22.956841</td>\n",
       "      <td>SN</td>\n",
       "      <td>January 30, 1991</td>\n",
       "      <td>26</td>\n",
       "      <td>Sengal</td>\n",
       "      <td>R</td>\n",
       "      <td>9</td>\n",
       "      <td>16</td>\n",
       "      <td>1</td>\n",
       "      <td>3</td>\n",
       "      <td>33.3</td>\n",
       "      <td>0</td>\n",
       "      <td>0</td>\n",
       "      <td>0.0</td>\n",
       "      <td>1</td>\n",
       "      <td>2</td>\n",
       "      <td>50.0</td>\n",
       "      <td>3</td>\n",
       "      <td>4</td>\n",
       "      <td>7</td>\n",
       "      <td>1</td>\n",
       "      <td>1</td>\n",
       "      <td>0</td>\n",
       "      <td>3</td>\n",
       "      <td>3</td>\n",
       "      <td>0</td>\n",
       "      <td>0</td>\n",
       "    </tr>\n",
       "    <tr>\n",
       "      <th>108</th>\n",
       "      <td>109</td>\n",
       "      <td>Rebecca Allen</td>\n",
       "      <td>NY</td>\n",
       "      <td>G/F</td>\n",
       "      <td>188</td>\n",
       "      <td>74.0</td>\n",
       "      <td>20.937076</td>\n",
       "      <td>AU</td>\n",
       "      <td>June 11, 1992</td>\n",
       "      <td>25</td>\n",
       "      <td>Australia</td>\n",
       "      <td>3</td>\n",
       "      <td>28</td>\n",
       "      <td>254</td>\n",
       "      <td>31</td>\n",
       "      <td>86</td>\n",
       "      <td>36.0</td>\n",
       "      <td>14</td>\n",
       "      <td>40</td>\n",
       "      <td>35.0</td>\n",
       "      <td>2</td>\n",
       "      <td>6</td>\n",
       "      <td>33.3</td>\n",
       "      <td>13</td>\n",
       "      <td>51</td>\n",
       "      <td>64</td>\n",
       "      <td>15</td>\n",
       "      <td>9</td>\n",
       "      <td>12</td>\n",
       "      <td>17</td>\n",
       "      <td>78</td>\n",
       "      <td>0</td>\n",
       "      <td>0</td>\n",
       "    </tr>\n",
       "    <tr>\n",
       "      <th>117</th>\n",
       "      <td>118</td>\n",
       "      <td>Sequoia Holmes</td>\n",
       "      <td>SAN</td>\n",
       "      <td>G</td>\n",
       "      <td>185</td>\n",
       "      <td>70.0</td>\n",
       "      <td>20.452885</td>\n",
       "      <td>US</td>\n",
       "      <td>June 13, 1986</td>\n",
       "      <td>31</td>\n",
       "      <td>UNLV</td>\n",
       "      <td>2</td>\n",
       "      <td>24</td>\n",
       "      <td>280</td>\n",
       "      <td>31</td>\n",
       "      <td>89</td>\n",
       "      <td>34.8</td>\n",
       "      <td>13</td>\n",
       "      <td>46</td>\n",
       "      <td>28.3</td>\n",
       "      <td>6</td>\n",
       "      <td>11</td>\n",
       "      <td>54.5</td>\n",
       "      <td>12</td>\n",
       "      <td>12</td>\n",
       "      <td>24</td>\n",
       "      <td>23</td>\n",
       "      <td>13</td>\n",
       "      <td>5</td>\n",
       "      <td>11</td>\n",
       "      <td>81</td>\n",
       "      <td>0</td>\n",
       "      <td>0</td>\n",
       "    </tr>\n",
       "    <tr>\n",
       "      <th>129</th>\n",
       "      <td>130</td>\n",
       "      <td>Sydney Wiese</td>\n",
       "      <td>LA</td>\n",
       "      <td>G</td>\n",
       "      <td>183</td>\n",
       "      <td>68.0</td>\n",
       "      <td>20.305175</td>\n",
       "      <td>US</td>\n",
       "      <td>July 13, 1992</td>\n",
       "      <td>25</td>\n",
       "      <td>Oregon State</td>\n",
       "      <td>R</td>\n",
       "      <td>25</td>\n",
       "      <td>189</td>\n",
       "      <td>19</td>\n",
       "      <td>50</td>\n",
       "      <td>38.0</td>\n",
       "      <td>13</td>\n",
       "      <td>32</td>\n",
       "      <td>40.6</td>\n",
       "      <td>4</td>\n",
       "      <td>8</td>\n",
       "      <td>50.0</td>\n",
       "      <td>3</td>\n",
       "      <td>18</td>\n",
       "      <td>21</td>\n",
       "      <td>6</td>\n",
       "      <td>4</td>\n",
       "      <td>3</td>\n",
       "      <td>2</td>\n",
       "      <td>55</td>\n",
       "      <td>0</td>\n",
       "      <td>0</td>\n",
       "    </tr>\n",
       "  </tbody>\n",
       "</table>\n",
       "</div>"
      ],
      "text/plain": [
       "     Unnamed: 0                Name Team  Pos  Height  Weight        BMI  \\\n",
       "11           11       Alyssa Thomas  CON    F     188    84.0  23.766410   \n",
       "32           32        Cayla George  PHO    C     193    87.0  23.356332   \n",
       "36           36      Courtney Paris  DAL    C     193   113.0  30.336385   \n",
       "47           47  Elizabeth Williams  ATL  F/C     191    87.0  23.848030   \n",
       "80           80          Kia Vaughn   NY    C     193    90.0  24.161722   \n",
       "90           90     Maimouna Diarra   LA    C     198    90.0  22.956841   \n",
       "108         109       Rebecca Allen   NY  G/F     188    74.0  20.937076   \n",
       "117         118      Sequoia Holmes  SAN    G     185    70.0  20.452885   \n",
       "129         130        Sydney Wiese   LA    G     183    68.0  20.305175   \n",
       "\n",
       "    Birth_Place           Birthdate  Age       College Experience  \\\n",
       "11           US    December 4, 1992   24      Maryland          3   \n",
       "32           AU      April 20, 1987   30       Georgia          1   \n",
       "36           US  September 21, 1987   29      Oklahoma          7   \n",
       "47           US       June 23, 1993   24          Duke          3   \n",
       "80           US    January 24, 1987   30       Rutgers          9   \n",
       "90           SN    January 30, 1991   26        Sengal          R   \n",
       "108          AU       June 11, 1992   25     Australia          3   \n",
       "117          US       June 13, 1986   31          UNLV          2   \n",
       "129          US       July 13, 1992   25  Oregon State          R   \n",
       "\n",
       "     Games Played  MIN  FGM  FGA   FG%  3PM  3PA   3P%  FTM  FTA   FT%  OREB  \\\n",
       "11             28  833  154  303  50.8    0    3   0.0   91  158  57.6    34   \n",
       "32             28  365   40  105  38.1   13   45  28.9    7   12  58.3    10   \n",
       "36             16  217   32   57  56.1    0    0   0.0    6   12  50.0    28   \n",
       "47             30  377   48   96  50.0    0    1   0.0   32   55  58.2    35   \n",
       "80             23  455   62  116  53.4    0    0   0.0   10   19  52.6    39   \n",
       "90              9   16    1    3  33.3    0    0   0.0    1    2  50.0     3   \n",
       "108            28  254   31   86  36.0   14   40  35.0    2    6  33.3    13   \n",
       "117            24  280   31   89  34.8   13   46  28.3    6   11  54.5    12   \n",
       "129            25  189   19   50  38.0   13   32  40.6    4    8  50.0     3   \n",
       "\n",
       "     DREB  REB  AST  STL  BLK  TO  PTS  DD2  TD3  \n",
       "11    158  192  136   48   11  87  399    4    0  \n",
       "32     71   81   15    9   11  13  100    1    0  \n",
       "36     34   62    5    6    8  18   70    0    0  \n",
       "47     61   96    5    5    4  21  128    0    0  \n",
       "80     71  110   16    8    9  21  134    1    0  \n",
       "90      4    7    1    1    0   3    3    0    0  \n",
       "108    51   64   15    9   12  17   78    0    0  \n",
       "117    12   24   23   13    5  11   81    0    0  \n",
       "129    18   21    6    4    3   2   55    0    0  "
      ]
     },
     "execution_count": 17,
     "metadata": {},
     "output_type": "execute_result"
    }
   ],
   "source": [
    "# your answer here\n",
    "\n",
    "\n",
    "wnba[(wnba['FT%']<60) & (wnba['FTA']>0)]\n",
    "\n"
   ]
  },
  {
   "cell_type": "markdown",
   "metadata": {},
   "source": [
    "**Now that all the requirements have been taken into account, compute the confidence interval of the proportion with a confidence level of 95%:**"
   ]
  },
  {
   "cell_type": "code",
   "execution_count": 18,
   "metadata": {},
   "outputs": [
    {
     "data": {
      "text/plain": [
       "(-5.022011472546835, 5.148772035927117)"
      ]
     },
     "execution_count": 18,
     "metadata": {},
     "output_type": "execute_result"
    }
   ],
   "source": [
    "# your code here\n",
    "n = len(wnba)\n",
    "\n",
    "per_40 = len(wnba[(wnba['FT%']<60) & (wnba['FTA']>0)])/n\n",
    "\n",
    "stats.t.interval(alpha=0.95, df=n-1, loc=per_40, scale=stats.sem(wnba[(wnba['FT%']<60) & (wnba['FTA']>0)]['FT%'])) "
   ]
  },
  {
   "cell_type": "markdown",
   "metadata": {},
   "source": [
    "**What can you comment about our result? What would you tell your sister?**"
   ]
  },
  {
   "cell_type": "code",
   "execution_count": 20,
   "metadata": {},
   "outputs": [],
   "source": [
    "#your-answer-here\n",
    "#No, they don't (5% of prob)"
   ]
  },
  {
   "cell_type": "markdown",
   "metadata": {},
   "source": [
    "# Bonus: Can you plot the probability distribution of the proportion of missed free throws, indicating where the critical region is?"
   ]
  },
  {
   "cell_type": "code",
   "execution_count": 23,
   "metadata": {},
   "outputs": [
    {
     "data": {
      "image/png": "[encoded data removed]",
      "text/plain": [
       "<Figure size 432x288 with 1 Axes>"
      ]
     },
     "metadata": {
      "needs_background": "light"
     },
     "output_type": "display_data"
    }
   ],
   "source": [
    "#your code here\n",
    "wnba['FT%'].hist()\n",
    "\n",
    "plt.axvline(x=per_40, color='g')\n",
    "lower, upper = stats.t.interval(alpha=0.95, df=n-1, loc=per_40, scale=stats.sem(wnba[(wnba['FT%']<60) & (wnba['FTA']>0)]['FT%'])) \n",
    "\n",
    "plt.axvspan(lower, upper, alpha=0.5, color='red')\n",
    "plt.show()"
   ]
  },
  {
   "cell_type": "markdown",
   "metadata": {},
   "source": [
    "# Question 3: Is the average number of assists for WNBA players only higher than the average for WNBA and NBA players together?"
   ]
  },
  {
   "cell_type": "markdown",
   "metadata": {},
   "source": [
    "Your brother-in-law is convinced that the average assists for female professional players is higher than the average of both female and male players combined (which is 52 for the 2016-2017 season). You would like to actually prove if this is true or not but you remember your stats teacher saying \"you can't *prove* anything, you just can say that *you are not* saying foolishness\".\n",
    "\n",
    "**How would you do it? Try and think about the requirements that your sample must satisfy in order to do that. Do you feel it actually fulfills those requirements? Do you need to make any assumptions?**"
   ]
  },
  {
   "cell_type": "code",
   "execution_count": 16,
   "metadata": {},
   "outputs": [],
   "source": [
    "#your-answer-here\n",
    "#"
   ]
  },
  {
   "cell_type": "markdown",
   "metadata": {},
   "source": [
    "**Use a two-tailed one-sample t-test to see if we can reject (or not) the null hypothesis with a 95% confidence level.**"
   ]
  },
  {
   "cell_type": "code",
   "execution_count": 24,
   "metadata": {},
   "outputs": [
    {
     "data": {
      "text/plain": [
       "Ttest_1sampResult(statistic=-2.1499947192482898, pvalue=0.033261541354107166)"
      ]
     },
     "execution_count": 24,
     "metadata": {},
     "output_type": "execute_result"
    }
   ],
   "source": [
    "#your code here\n",
    "#hip nula = media distinta a 52\n",
    "#hip 1  = media similar a 52\n",
    "stats.ttest_1samp(wnba['AST'],52)"
   ]
  },
  {
   "cell_type": "code",
   "execution_count": 27,
   "metadata": {},
   "outputs": [
    {
     "name": "stdout",
     "output_type": "stream",
     "text": [
      "Se rechaza hipotesis nula, no podemos confirmar que el valor medio sea similar a 52\n"
     ]
    }
   ],
   "source": [
    "#your-answer-here\n",
    "print('Se rechaza hipotesis nula, no podemos confirmar que el valor medio sea similar a 52')"
   ]
  },
  {
   "cell_type": "markdown",
   "metadata": {},
   "source": [
    "**Now use a one-tailed one-sample t-test to see if we can reject (or not) the null hypothesis with a 95% confidence level.**"
   ]
  },
  {
   "cell_type": "code",
   "execution_count": 28,
   "metadata": {},
   "outputs": [
    {
     "name": "stdout",
     "output_type": "stream",
     "text": [
      "Se rechaza hipotesis nula, no podemos confirmar que el valor medio sea menor a 52\n"
     ]
    }
   ],
   "source": [
    "#your-answer-here\n",
    "#hip nula = media distinta a 52\n",
    "#hip 1  = media menor a 52\n",
    "stats.ttest_1samp(wnba['AST'],52,alternative='less')\n",
    "print('Se rechaza hipotesis nula, no podemos confirmar que el valor medio sea menor a 52')"
   ]
  },
  {
   "cell_type": "markdown",
   "metadata": {},
   "source": [
    "# Bonus: Can you plot the resulting t-distribution of both tests? Indicate where the is the critical region and where does your statistic fall.**"
   ]
  },
  {
   "cell_type": "code",
   "execution_count": 29,
   "metadata": {},
   "outputs": [
    {
     "data": {
      "image/png": "[encoded data removed]",
      "text/plain": [
       "<Figure size 720x432 with 1 Axes>"
      ]
     },
     "metadata": {
      "needs_background": "light"
     },
     "output_type": "display_data"
    },
    {
     "data": {
      "image/png": "[encoded data removed]",
      "text/plain": [
       "<Figure size 720x432 with 1 Axes>"
      ]
     },
     "metadata": {
      "needs_background": "light"
     },
     "output_type": "display_data"
    }
   ],
   "source": [
    "#your code here\n",
    "import matplotlib.pyplot as plt\n",
    "import numpy as np\n",
    "from scipy import stats\n",
    "\n",
    "# Assuming you have already performed the t-tests\n",
    "# stats.ttest_1samp(wnba['AST'], 52, alternative='less')\n",
    "# stats.ttest_1samp(wnba['AST'], 52)\n",
    "\n",
    "# Sample mean and standard deviation\n",
    "sample_mean = wnba['AST'].mean()\n",
    "sample_std = wnba['AST'].std()\n",
    "\n",
    "# Parameters for the t-distribution\n",
    "df = len(wnba['AST']) - 1  # degrees of freedom\n",
    "\n",
    "# Generate x values for the t-distribution plot\n",
    "x = np.linspace(stats.t.ppf(0.001, df), stats.t.ppf(0.999, df), 1000)\n",
    "\n",
    "# Plot the t-distribution for the first test (alternative='less')\n",
    "plt.figure(figsize=(10, 6))\n",
    "plt.plot(x, stats.t.pdf(x, df), label='t-distribution')\n",
    "plt.fill_between(x, 0, stats.t.pdf(x, df), where=(x <= stats.t.ppf(0.05, df)), color='red', alpha=0.3, label='Critical Region (alpha=0.05)')\n",
    "plt.axvline(x=stats.t.ppf(0.05, df), color='red', linestyle='--', label='Critical Value (alpha=0.05)')\n",
    "plt.axvline(x=stats.ttest_1samp(wnba['AST'], 52, alternative='less').statistic, color='green', linestyle='--', label='Test Statistic')\n",
    "plt.title('t-Distribution for t-test (alternative=\"less\")')\n",
    "plt.legend()\n",
    "plt.show()\n",
    "\n",
    "# Plot the t-distribution for the second test (two-sided test)\n",
    "plt.figure(figsize=(10, 6))\n",
    "plt.plot(x, stats.t.pdf(x, df), label='t-distribution')\n",
    "plt.fill_between(x, 0, stats.t.pdf(x, df), where=(x <= stats.t.ppf(0.025, df)) | (x >= stats.t.ppf(0.975, df)), color='red', alpha=0.3, label='Critical Region (alpha=0.05)')\n",
    "plt.axvline(x=stats.t.ppf(0.025, df), color='red', linestyle='--', label='Critical Value (alpha/2=0.025)')\n",
    "plt.axvline(x=stats.t.ppf(0.975, df), color='red', linestyle='--', label='Critical Value (1 - alpha/2=0.975)')\n",
    "plt.axvline(x=stats.ttest_1samp(wnba['AST'], 52).statistic, color='green', linestyle='--', label='Test Statistic')\n",
    "plt.title('t-Distribution for t-test (two-sided)')\n",
    "plt.legend()\n",
    "plt.show()"
   ]
  },
  {
   "cell_type": "markdown",
   "metadata": {},
   "source": [
    "# Bonus: Satisfying your curiosity\n",
    "\n",
    "You finally managed to solve your family's debates over basketball! While you were doing that you started to take an interest in the normal distribution.\n",
    "\n",
    "You read that the normal distribution is present in a lot of natural phenomenons, like blood pressure, IQ, weight and height. If, for example, we could plot the distribution of the weights of every human on the planet right now it would have the shape of a normal distribution.\n",
    "\n",
    "In light of this you would like to see if it's possible to check if the distribution of the weights of the WNBA players is a sample distribution that comes from a population that has a normal distribution, because theoretically this should be the case.\n",
    "\n",
    "**How would you try to demonstrate that our sample fits a normal distribution? What kind of test would you use? Would you have to make any assumptions?**"
   ]
  },
  {
   "cell_type": "code",
   "execution_count": 33,
   "metadata": {},
   "outputs": [
    {
     "name": "stdout",
     "output_type": "stream",
     "text": [
      "Shapiro-Wilk Test Statistic: 0.9781\n",
      "P-value: 0.0223\n",
      "Reject the null hypothesis: The data does not come from a normal distribution.\n"
     ]
    }
   ],
   "source": [
    "#your-answer-here\n",
    "from scipy import stats\n",
    "import matplotlib.pyplot as plt\n",
    "import seaborn as sns\n",
    "\n",
    "# Assuming you have a DataFrame named wnba with a 'Weight' column\n",
    "weights = wnba['Weight']\n",
    "\n",
    "# Shapiro-Wilk test for normality\n",
    "statistic, p_value = stats.shapiro(weights)\n",
    "\n",
    "# Set up a threshold for significance\n",
    "alpha = 0.05\n",
    "\n",
    "# Print the result of the test\n",
    "print(f'Shapiro-Wilk Test Statistic: {statistic:.4f}')\n",
    "print(f'P-value: {p_value:.4f}')\n",
    "\n",
    "# Compare the p-value to the significance level\n",
    "if p_value < alpha:\n",
    "    print('Reject the null hypothesis: The data does not come from a normal distribution.')\n",
    "else:\n",
    "    print('Fail to reject the null hypothesis: The data may come from a normal distribution.')\n",
    "\n"
   ]
  },
  {
   "cell_type": "code",
   "execution_count": 34,
   "metadata": {},
   "outputs": [
    {
     "data": {
      "image/png": "[encoded data removed]",
      "text/plain": [
       "<Figure size 864x360 with 2 Axes>"
      ]
     },
     "metadata": {
      "needs_background": "light"
     },
     "output_type": "display_data"
    }
   ],
   "source": [
    "# your code here\n",
    "# Plot a histogram and a Q-Q plot for visual inspection\n",
    "plt.figure(figsize=(12, 5))\n",
    "\n",
    "plt.subplot(1, 2, 1)\n",
    "sns.distplot(weights, kde=True)  \n",
    "plt.title('Histogram of Weights')\n",
    "\n",
    "plt.subplot(1, 2, 2)\n",
    "stats.probplot(weights, dist=\"norm\", plot=plt)\n",
    "plt.title('Q-Q Plot')\n",
    "\n",
    "plt.show()"
   ]
  },
  {
   "cell_type": "markdown",
   "metadata": {},
   "source": [
    "**What are your comments in regards to the results of the test?**"
   ]
  },
  {
   "cell_type": "code",
   "execution_count": 35,
   "metadata": {},
   "outputs": [
    {
     "name": "stdout",
     "output_type": "stream",
     "text": [
      "it is pretty similar to a normal distribution but p-value indicates that we reject that hypothesis, probably due to outliers that can be detected in the plot\n"
     ]
    }
   ],
   "source": [
    "#your-answer-here\n",
    "\n",
    "print('it is pretty similar to a normal distribution but p-value indicates that we reject that hypothesis, probably due to outliers that can be detected in the plot')"
   ]
  }
 ],
 "metadata": {
  "kernelspec": {
   "display_name": "Python 3",
   "language": "python",
   "name": "python3"
  },
  "language_info": {
   "codemirror_mode": {
    "name": "ipython",
    "version": 3
   },
   "file_extension": ".py",
   "mimetype": "text/x-python",
   "name": "python",
   "nbconvert_exporter": "python",
   "pygments_lexer": "ipython3",
   "version": "3.7.6"
  }
 },
 "nbformat": 4,
 "nbformat_minor": 2
}
